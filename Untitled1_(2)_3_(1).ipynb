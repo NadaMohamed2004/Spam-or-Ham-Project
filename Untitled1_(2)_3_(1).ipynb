{
  "cells": [
    {
      "cell_type": "markdown",
      "metadata": {
        "id": "mdTkzlqBBaBf"
      },
      "source": [
        "\n",
        "# Spam or Ham Project 🤔"
      ]
    },
    {
      "cell_type": "markdown",
      "metadata": {},
      "source": [
        "![Example Image](2.jpg)"
      ]
    },
    {
      "cell_type": "markdown",
      "metadata": {
        "id": "o5ElnYgm3KQW"
      },
      "source": [
        "## Import Libraries and Load Dataset"
      ]
    },
    {
      "cell_type": "code",
      "execution_count": 1,
      "metadata": {
        "id": "9AfiyK4M3KQW"
      },
      "outputs": [],
      "source": [
        "import numpy as np\n",
        "import pandas as pd\n",
        "import matplotlib.pyplot as plt\n",
        "import seaborn as sns\n",
        "from sklearn.preprocessing import LabelEncoder\n",
        "import nltk\n",
        "from nltk.tokenize import word_tokenize\n",
        "from nltk.corpus import stopwords\n",
        "from nltk.tokenize import word_tokenize\n",
        "\n"
      ]
    },
    {
      "cell_type": "code",
      "execution_count": 2,
      "metadata": {
        "colab": {
          "base_uri": "https://localhost:8080/"
        },
        "id": "m7qLrJyvY7H-",
        "outputId": "1b7228b6-9518-40dc-8dad-bb7d0914a2e0"
      },
      "outputs": [
        {
          "name": "stderr",
          "output_type": "stream",
          "text": [
            "[nltk_data] Downloading package punkt to\n",
            "[nltk_data]     C:\\Users\\DELL\\AppData\\Roaming\\nltk_data...\n",
            "[nltk_data]   Package punkt is already up-to-date!\n",
            "[nltk_data] Downloading package averaged_perceptron_tagger to\n",
            "[nltk_data]     C:\\Users\\DELL\\AppData\\Roaming\\nltk_data...\n",
            "[nltk_data]   Package averaged_perceptron_tagger is already up-to-\n",
            "[nltk_data]       date!\n",
            "[nltk_data] Downloading package maxent_ne_chunker to\n",
            "[nltk_data]     C:\\Users\\DELL\\AppData\\Roaming\\nltk_data...\n",
            "[nltk_data]   Package maxent_ne_chunker is already up-to-date!\n",
            "[nltk_data] Downloading package words to\n",
            "[nltk_data]     C:\\Users\\DELL\\AppData\\Roaming\\nltk_data...\n",
            "[nltk_data]   Package words is already up-to-date!\n",
            "[nltk_data] Downloading package stopwords to\n",
            "[nltk_data]     C:\\Users\\DELL\\AppData\\Roaming\\nltk_data...\n",
            "[nltk_data]   Package stopwords is already up-to-date!\n"
          ]
        },
        {
          "data": {
            "text/plain": [
              "True"
            ]
          },
          "execution_count": 2,
          "metadata": {},
          "output_type": "execute_result"
        }
      ],
      "source": [
        "nltk.download('punkt')\n",
        "nltk.download('averaged_perceptron_tagger')\n",
        "nltk.download('maxent_ne_chunker')\n",
        "nltk.download('words')\n",
        "nltk.download('stopwords')"
      ]
    },
    {
      "cell_type": "code",
      "execution_count": 3,
      "metadata": {
        "id": "jbO157ARB8N2"
      },
      "outputs": [],
      "source": [
        "df=pd.read_csv('D:/projectAI/spam_ham_dataset.csv')"
      ]
    },
    {
      "cell_type": "code",
      "execution_count": 4,
      "metadata": {
        "id": "uqzMkWCZ3KQY"
      },
      "outputs": [],
      "source": [
        "data =df.rename(columns={'# sent emails ':'sent_emails'})"
      ]
    },
    {
      "cell_type": "markdown",
      "metadata": {
        "id": "MnK53Rpq3KQY"
      },
      "source": [
        "## Data Analysis"
      ]
    },
    {
      "cell_type": "code",
      "execution_count": 5,
      "metadata": {
        "colab": {
          "base_uri": "https://localhost:8080/",
          "height": 206
        },
        "id": "J8pU057kCXCd",
        "outputId": "686b70da-854f-4d4a-a59e-4bcfbc8171ce"
      },
      "outputs": [
        {
          "data": {
            "text/html": [
              "<div>\n",
              "<style scoped>\n",
              "    .dataframe tbody tr th:only-of-type {\n",
              "        vertical-align: middle;\n",
              "    }\n",
              "\n",
              "    .dataframe tbody tr th {\n",
              "        vertical-align: top;\n",
              "    }\n",
              "\n",
              "    .dataframe thead th {\n",
              "        text-align: right;\n",
              "    }\n",
              "</style>\n",
              "<table border=\"1\" class=\"dataframe\">\n",
              "  <thead>\n",
              "    <tr style=\"text-align: right;\">\n",
              "      <th></th>\n",
              "      <th>sent_emails</th>\n",
              "      <th>label</th>\n",
              "      <th>text</th>\n",
              "      <th>label_num</th>\n",
              "    </tr>\n",
              "  </thead>\n",
              "  <tbody>\n",
              "    <tr>\n",
              "      <th>0</th>\n",
              "      <td>605</td>\n",
              "      <td>ham</td>\n",
              "      <td>Subject: enron methanol ; meter # : 988291\\nth...</td>\n",
              "      <td>0</td>\n",
              "    </tr>\n",
              "    <tr>\n",
              "      <th>1</th>\n",
              "      <td>2349</td>\n",
              "      <td>ham</td>\n",
              "      <td>Subject: hpl nom for january 9 , 2001\\n( see a...</td>\n",
              "      <td>0</td>\n",
              "    </tr>\n",
              "    <tr>\n",
              "      <th>2</th>\n",
              "      <td>3624</td>\n",
              "      <td>ham</td>\n",
              "      <td>Subject: neon retreat\\nho ho ho , we ' re arou...</td>\n",
              "      <td>0</td>\n",
              "    </tr>\n",
              "    <tr>\n",
              "      <th>3</th>\n",
              "      <td>4685</td>\n",
              "      <td>spam</td>\n",
              "      <td>Subject: photoshop , windows , office . cheap ...</td>\n",
              "      <td>1</td>\n",
              "    </tr>\n",
              "    <tr>\n",
              "      <th>4</th>\n",
              "      <td>2030</td>\n",
              "      <td>ham</td>\n",
              "      <td>Subject: re : indian springs\\nthis deal is to ...</td>\n",
              "      <td>0</td>\n",
              "    </tr>\n",
              "  </tbody>\n",
              "</table>\n",
              "</div>"
            ],
            "text/plain": [
              "   sent_emails label                                               text  \\\n",
              "0          605   ham  Subject: enron methanol ; meter # : 988291\\nth...   \n",
              "1         2349   ham  Subject: hpl nom for january 9 , 2001\\n( see a...   \n",
              "2         3624   ham  Subject: neon retreat\\nho ho ho , we ' re arou...   \n",
              "3         4685  spam  Subject: photoshop , windows , office . cheap ...   \n",
              "4         2030   ham  Subject: re : indian springs\\nthis deal is to ...   \n",
              "\n",
              "   label_num  \n",
              "0          0  \n",
              "1          0  \n",
              "2          0  \n",
              "3          1  \n",
              "4          0  "
            ]
          },
          "execution_count": 5,
          "metadata": {},
          "output_type": "execute_result"
        }
      ],
      "source": [
        "data.head()"
      ]
    },
    {
      "cell_type": "code",
      "execution_count": 6,
      "metadata": {
        "colab": {
          "base_uri": "https://localhost:8080/"
        },
        "id": "TxI43pL8EjwG",
        "outputId": "03a2d19a-c37e-450d-c762-0a1c3150415b"
      },
      "outputs": [
        {
          "data": {
            "text/plain": [
              "Index(['sent_emails', 'label', 'text', 'label_num'], dtype='object')"
            ]
          },
          "execution_count": 6,
          "metadata": {},
          "output_type": "execute_result"
        }
      ],
      "source": [
        "data.columns"
      ]
    },
    {
      "cell_type": "code",
      "execution_count": 7,
      "metadata": {
        "colab": {
          "base_uri": "https://localhost:8080/"
        },
        "id": "fJ8V4gEtEvzf",
        "outputId": "2f33429c-bcc3-46f9-d5bf-108c9d0c4d34"
      },
      "outputs": [
        {
          "name": "stdout",
          "output_type": "stream",
          "text": [
            "<class 'pandas.core.frame.DataFrame'>\n",
            "RangeIndex: 5171 entries, 0 to 5170\n",
            "Data columns (total 4 columns):\n",
            " #   Column       Non-Null Count  Dtype \n",
            "---  ------       --------------  ----- \n",
            " 0   sent_emails  5171 non-null   int64 \n",
            " 1   label        5171 non-null   object\n",
            " 2   text         5171 non-null   object\n",
            " 3   label_num    5171 non-null   int64 \n",
            "dtypes: int64(2), object(2)\n",
            "memory usage: 161.7+ KB\n"
          ]
        }
      ],
      "source": [
        "data.info()"
      ]
    },
    {
      "cell_type": "code",
      "execution_count": 8,
      "metadata": {
        "colab": {
          "base_uri": "https://localhost:8080/",
          "height": 300
        },
        "id": "WJPxojs6FAYp",
        "outputId": "638b4cc6-1468-4fce-b11b-d581b72e8f5b"
      },
      "outputs": [
        {
          "data": {
            "text/html": [
              "<div>\n",
              "<style scoped>\n",
              "    .dataframe tbody tr th:only-of-type {\n",
              "        vertical-align: middle;\n",
              "    }\n",
              "\n",
              "    .dataframe tbody tr th {\n",
              "        vertical-align: top;\n",
              "    }\n",
              "\n",
              "    .dataframe thead th {\n",
              "        text-align: right;\n",
              "    }\n",
              "</style>\n",
              "<table border=\"1\" class=\"dataframe\">\n",
              "  <thead>\n",
              "    <tr style=\"text-align: right;\">\n",
              "      <th></th>\n",
              "      <th>sent_emails</th>\n",
              "      <th>label_num</th>\n",
              "    </tr>\n",
              "  </thead>\n",
              "  <tbody>\n",
              "    <tr>\n",
              "      <th>count</th>\n",
              "      <td>5171.000000</td>\n",
              "      <td>5171.000000</td>\n",
              "    </tr>\n",
              "    <tr>\n",
              "      <th>mean</th>\n",
              "      <td>2585.000000</td>\n",
              "      <td>0.289886</td>\n",
              "    </tr>\n",
              "    <tr>\n",
              "      <th>std</th>\n",
              "      <td>1492.883452</td>\n",
              "      <td>0.453753</td>\n",
              "    </tr>\n",
              "    <tr>\n",
              "      <th>min</th>\n",
              "      <td>0.000000</td>\n",
              "      <td>0.000000</td>\n",
              "    </tr>\n",
              "    <tr>\n",
              "      <th>25%</th>\n",
              "      <td>1292.500000</td>\n",
              "      <td>0.000000</td>\n",
              "    </tr>\n",
              "    <tr>\n",
              "      <th>50%</th>\n",
              "      <td>2585.000000</td>\n",
              "      <td>0.000000</td>\n",
              "    </tr>\n",
              "    <tr>\n",
              "      <th>75%</th>\n",
              "      <td>3877.500000</td>\n",
              "      <td>1.000000</td>\n",
              "    </tr>\n",
              "    <tr>\n",
              "      <th>max</th>\n",
              "      <td>5170.000000</td>\n",
              "      <td>1.000000</td>\n",
              "    </tr>\n",
              "  </tbody>\n",
              "</table>\n",
              "</div>"
            ],
            "text/plain": [
              "       sent_emails    label_num\n",
              "count  5171.000000  5171.000000\n",
              "mean   2585.000000     0.289886\n",
              "std    1492.883452     0.453753\n",
              "min       0.000000     0.000000\n",
              "25%    1292.500000     0.000000\n",
              "50%    2585.000000     0.000000\n",
              "75%    3877.500000     1.000000\n",
              "max    5170.000000     1.000000"
            ]
          },
          "execution_count": 8,
          "metadata": {},
          "output_type": "execute_result"
        }
      ],
      "source": [
        "data.describe()"
      ]
    },
    {
      "cell_type": "code",
      "execution_count": 9,
      "metadata": {
        "colab": {
          "base_uri": "https://localhost:8080/",
          "height": 424
        },
        "id": "TS-PngFeFtZg",
        "outputId": "3a0b2311-1970-4e8f-ec7f-73755ab9d437"
      },
      "outputs": [
        {
          "data": {
            "text/html": [
              "<div>\n",
              "<style scoped>\n",
              "    .dataframe tbody tr th:only-of-type {\n",
              "        vertical-align: middle;\n",
              "    }\n",
              "\n",
              "    .dataframe tbody tr th {\n",
              "        vertical-align: top;\n",
              "    }\n",
              "\n",
              "    .dataframe thead th {\n",
              "        text-align: right;\n",
              "    }\n",
              "</style>\n",
              "<table border=\"1\" class=\"dataframe\">\n",
              "  <thead>\n",
              "    <tr style=\"text-align: right;\">\n",
              "      <th></th>\n",
              "      <th>sent_emails</th>\n",
              "      <th>label</th>\n",
              "      <th>text</th>\n",
              "      <th>label_num</th>\n",
              "    </tr>\n",
              "  </thead>\n",
              "  <tbody>\n",
              "    <tr>\n",
              "      <th>0</th>\n",
              "      <td>605</td>\n",
              "      <td>ham</td>\n",
              "      <td>Subject: enron methanol ; meter # : 988291\\nth...</td>\n",
              "      <td>0</td>\n",
              "    </tr>\n",
              "    <tr>\n",
              "      <th>2610</th>\n",
              "      <td>80</td>\n",
              "      <td>ham</td>\n",
              "      <td>Subject: january setup - - mops\\nspecifically ...</td>\n",
              "      <td>0</td>\n",
              "    </tr>\n",
              "    <tr>\n",
              "      <th>4444</th>\n",
              "      <td>1225</td>\n",
              "      <td>ham</td>\n",
              "      <td>Subject: re : cornhusker\\njohn ,\\ni did some p...</td>\n",
              "      <td>0</td>\n",
              "    </tr>\n",
              "    <tr>\n",
              "      <th>2612</th>\n",
              "      <td>3085</td>\n",
              "      <td>ham</td>\n",
              "      <td>Subject: re : shut - in of meter 989842\\ni nee...</td>\n",
              "      <td>0</td>\n",
              "    </tr>\n",
              "    <tr>\n",
              "      <th>2613</th>\n",
              "      <td>2778</td>\n",
              "      <td>ham</td>\n",
              "      <td>Subject: hpl nom for march 21 , 2001\\n( see at...</td>\n",
              "      <td>0</td>\n",
              "    </tr>\n",
              "    <tr>\n",
              "      <th>...</th>\n",
              "      <td>...</td>\n",
              "      <td>...</td>\n",
              "      <td>...</td>\n",
              "      <td>...</td>\n",
              "    </tr>\n",
              "    <tr>\n",
              "      <th>2737</th>\n",
              "      <td>4310</td>\n",
              "      <td>spam</td>\n",
              "      <td>Subject: mdsadvkthe powerh - ou ' se of the bo...</td>\n",
              "      <td>1</td>\n",
              "    </tr>\n",
              "    <tr>\n",
              "      <th>2738</th>\n",
              "      <td>4861</td>\n",
              "      <td>spam</td>\n",
              "      <td>Subject: links swap / exchange\\ndear all ,\\nwe...</td>\n",
              "      <td>1</td>\n",
              "    </tr>\n",
              "    <tr>\n",
              "      <th>2739</th>\n",
              "      <td>3844</td>\n",
              "      <td>spam</td>\n",
              "      <td>Subject: free pay per view\\nhad chance at last...</td>\n",
              "      <td>1</td>\n",
              "    </tr>\n",
              "    <tr>\n",
              "      <th>2726</th>\n",
              "      <td>4631</td>\n",
              "      <td>spam</td>\n",
              "      <td>Subject: cheapest meds you ' ll find .\\ndiscou...</td>\n",
              "      <td>1</td>\n",
              "    </tr>\n",
              "    <tr>\n",
              "      <th>5170</th>\n",
              "      <td>4807</td>\n",
              "      <td>spam</td>\n",
              "      <td>Subject: important online banking alert\\ndear ...</td>\n",
              "      <td>1</td>\n",
              "    </tr>\n",
              "  </tbody>\n",
              "</table>\n",
              "<p>5171 rows × 4 columns</p>\n",
              "</div>"
            ],
            "text/plain": [
              "      sent_emails label                                               text  \\\n",
              "0             605   ham  Subject: enron methanol ; meter # : 988291\\nth...   \n",
              "2610           80   ham  Subject: january setup - - mops\\nspecifically ...   \n",
              "4444         1225   ham  Subject: re : cornhusker\\njohn ,\\ni did some p...   \n",
              "2612         3085   ham  Subject: re : shut - in of meter 989842\\ni nee...   \n",
              "2613         2778   ham  Subject: hpl nom for march 21 , 2001\\n( see at...   \n",
              "...           ...   ...                                                ...   \n",
              "2737         4310  spam  Subject: mdsadvkthe powerh - ou ' se of the bo...   \n",
              "2738         4861  spam  Subject: links swap / exchange\\ndear all ,\\nwe...   \n",
              "2739         3844  spam  Subject: free pay per view\\nhad chance at last...   \n",
              "2726         4631  spam  Subject: cheapest meds you ' ll find .\\ndiscou...   \n",
              "5170         4807  spam  Subject: important online banking alert\\ndear ...   \n",
              "\n",
              "      label_num  \n",
              "0             0  \n",
              "2610          0  \n",
              "4444          0  \n",
              "2612          0  \n",
              "2613          0  \n",
              "...         ...  \n",
              "2737          1  \n",
              "2738          1  \n",
              "2739          1  \n",
              "2726          1  \n",
              "5170          1  \n",
              "\n",
              "[5171 rows x 4 columns]"
            ]
          },
          "execution_count": 9,
          "metadata": {},
          "output_type": "execute_result"
        }
      ],
      "source": [
        "data.sort_values(by='label_num')"
      ]
    },
    {
      "cell_type": "markdown",
      "metadata": {
        "id": "k_v2yoLx3KQb"
      },
      "source": [
        "## Vesualization"
      ]
    },
    {
      "cell_type": "code",
      "execution_count": 10,
      "metadata": {
        "colab": {
          "base_uri": "https://localhost:8080/",
          "height": 564
        },
        "id": "5NdBHxvl3KQb",
        "outputId": "2b17ec96-7c77-4f60-e998-6b729ecb4ccf"
      },
      "outputs": [
        {
          "data": {
            "image/png": "[encoded data removed]",
            "text/plain": [
              "<Figure size 1200x600 with 1 Axes>"
            ]
          },
          "metadata": {},
          "output_type": "display_data"
        }
      ],
      "source": [
        "plt.figure(figsize=(12, 6))\n",
        "sns.boxplot(x='label', y='sent_emails', data=data)\n",
        "plt.xlabel('Email Type')\n",
        "plt.ylabel('Number of Sent Emails')\n",
        "plt.title('Box Plot of Sent Emails for Spam and Ham')\n",
        "plt.show()"
      ]
    },
    {
      "cell_type": "code",
      "execution_count": 11,
      "metadata": {
        "colab": {
          "base_uri": "https://localhost:8080/",
          "height": 428
        },
        "id": "D373a7mV3KQb",
        "outputId": "8ed322ff-b6ad-494a-b8d4-6b267f638ffb"
      },
      "outputs": [
        {
          "data": {
            "text/plain": [
              "<Axes: ylabel='label_num'>"
            ]
          },
          "execution_count": 11,
          "metadata": {},
          "output_type": "execute_result"
        },
        {
          "data": {
            "image/png": "[encoded data removed]",
            "text/plain": [
              "<Figure size 640x480 with 1 Axes>"
            ]
          },
          "metadata": {},
          "output_type": "display_data"
        }
      ],
      "source": [
        "sns.boxplot(data['label_num'])"
      ]
    },
    {
      "cell_type": "code",
      "execution_count": 12,
      "metadata": {
        "colab": {
          "base_uri": "https://localhost:8080/",
          "height": 675
        },
        "id": "3ePScj913KQc",
        "outputId": "5bbc5664-73b1-4c38-81cc-fddb2ecb668e"
      },
      "outputs": [
        {
          "data": {
            "image/png": "[encoded data removed]",
            "text/plain": [
              "<Figure size 800x800 with 1 Axes>"
            ]
          },
          "metadata": {},
          "output_type": "display_data"
        }
      ],
      "source": [
        "label_counts = df['label'].value_counts()\n",
        "\n",
        "plt.figure(figsize=(8, 8))\n",
        "plt.pie(label_counts, labels=label_counts.index, autopct='%1.1f%%', colors=sns.color_palette('pastel'))\n",
        "plt.title('Proportion of Spam vs. Ham Emails')\n",
        "plt.show()"
      ]
    },
    {
      "cell_type": "markdown",
      "metadata": {
        "id": "pAYIRxKj3KQc"
      },
      "source": [
        "## Data Preprocessing"
      ]
    },
    {
      "cell_type": "code",
      "execution_count": 13,
      "metadata": {
        "colab": {
          "base_uri": "https://localhost:8080/"
        },
        "id": "aw2z_gFsGkZ6",
        "outputId": "57f9e364-f3a6-4c21-af82-f186d5dc01c8"
      },
      "outputs": [
        {
          "name": "stdout",
          "output_type": "stream",
          "text": [
            "sent_emails    0\n",
            "label          0\n",
            "text           0\n",
            "label_num      0\n",
            "dtype: int64\n"
          ]
        }
      ],
      "source": [
        "print (data.isnull().sum())"
      ]
    },
    {
      "cell_type": "code",
      "execution_count": 14,
      "metadata": {
        "colab": {
          "base_uri": "https://localhost:8080/"
        },
        "id": "c8ntuaSUGwJr",
        "outputId": "8e6c9cf3-4bfa-45c9-c82d-5715839b4c15"
      },
      "outputs": [
        {
          "name": "stdout",
          "output_type": "stream",
          "text": [
            "0\n"
          ]
        }
      ],
      "source": [
        "print(data.duplicated().sum())"
      ]
    },
    {
      "cell_type": "markdown",
      "metadata": {},
      "source": [
        "### Cleaning Text"
      ]
    },
    {
      "cell_type": "code",
      "execution_count": 15,
      "metadata": {},
      "outputs": [],
      "source": [
        "\n",
        "def preprocess_text(text):\n",
        "    tokens = word_tokenize(text.lower())\n",
        "    clean_tokens = [token for token in tokens if token.isalpha() and token not in stopwords.words('english')and token !=\"subject\" and token !=\"re\" and token !=\"fw\"]\n",
        "    return ' '.join(clean_tokens)\n",
        "\n",
        "data['transform_text'] = data['text'].apply(preprocess_text)\n",
        "\n"
      ]
    },
    {
      "cell_type": "code",
      "execution_count": 16,
      "metadata": {},
      "outputs": [
        {
          "data": {
            "text/html": [
              "<div>\n",
              "<style scoped>\n",
              "    .dataframe tbody tr th:only-of-type {\n",
              "        vertical-align: middle;\n",
              "    }\n",
              "\n",
              "    .dataframe tbody tr th {\n",
              "        vertical-align: top;\n",
              "    }\n",
              "\n",
              "    .dataframe thead th {\n",
              "        text-align: right;\n",
              "    }\n",
              "</style>\n",
              "<table border=\"1\" class=\"dataframe\">\n",
              "  <thead>\n",
              "    <tr style=\"text-align: right;\">\n",
              "      <th></th>\n",
              "      <th>sent_emails</th>\n",
              "      <th>label</th>\n",
              "      <th>text</th>\n",
              "      <th>label_num</th>\n",
              "      <th>transform_text</th>\n",
              "    </tr>\n",
              "  </thead>\n",
              "  <tbody>\n",
              "    <tr>\n",
              "      <th>0</th>\n",
              "      <td>605</td>\n",
              "      <td>ham</td>\n",
              "      <td>Subject: enron methanol ; meter # : 988291\\nth...</td>\n",
              "      <td>0</td>\n",
              "      <td>enron methanol meter follow note gave monday p...</td>\n",
              "    </tr>\n",
              "    <tr>\n",
              "      <th>1</th>\n",
              "      <td>2349</td>\n",
              "      <td>ham</td>\n",
              "      <td>Subject: hpl nom for january 9 , 2001\\n( see a...</td>\n",
              "      <td>0</td>\n",
              "      <td>hpl nom january see attached file hplnol xls h...</td>\n",
              "    </tr>\n",
              "    <tr>\n",
              "      <th>2</th>\n",
              "      <td>3624</td>\n",
              "      <td>ham</td>\n",
              "      <td>Subject: neon retreat\\nho ho ho , we ' re arou...</td>\n",
              "      <td>0</td>\n",
              "      <td>neon retreat ho ho ho around wonderful time ye...</td>\n",
              "    </tr>\n",
              "    <tr>\n",
              "      <th>3</th>\n",
              "      <td>4685</td>\n",
              "      <td>spam</td>\n",
              "      <td>Subject: photoshop , windows , office . cheap ...</td>\n",
              "      <td>1</td>\n",
              "      <td>photoshop windows office cheap main trending a...</td>\n",
              "    </tr>\n",
              "    <tr>\n",
              "      <th>4</th>\n",
              "      <td>2030</td>\n",
              "      <td>ham</td>\n",
              "      <td>Subject: re : indian springs\\nthis deal is to ...</td>\n",
              "      <td>0</td>\n",
              "      <td>indian springs deal book teco pvr revenue unde...</td>\n",
              "    </tr>\n",
              "  </tbody>\n",
              "</table>\n",
              "</div>"
            ],
            "text/plain": [
              "   sent_emails label                                               text  \\\n",
              "0          605   ham  Subject: enron methanol ; meter # : 988291\\nth...   \n",
              "1         2349   ham  Subject: hpl nom for january 9 , 2001\\n( see a...   \n",
              "2         3624   ham  Subject: neon retreat\\nho ho ho , we ' re arou...   \n",
              "3         4685  spam  Subject: photoshop , windows , office . cheap ...   \n",
              "4         2030   ham  Subject: re : indian springs\\nthis deal is to ...   \n",
              "\n",
              "   label_num                                     transform_text  \n",
              "0          0  enron methanol meter follow note gave monday p...  \n",
              "1          0  hpl nom january see attached file hplnol xls h...  \n",
              "2          0  neon retreat ho ho ho around wonderful time ye...  \n",
              "3          1  photoshop windows office cheap main trending a...  \n",
              "4          0  indian springs deal book teco pvr revenue unde...  "
            ]
          },
          "execution_count": 16,
          "metadata": {},
          "output_type": "execute_result"
        }
      ],
      "source": [
        "data.head()"
      ]
    },
    {
      "cell_type": "code",
      "execution_count": 17,
      "metadata": {
        "colab": {
          "base_uri": "https://localhost:8080/",
          "height": 428
        },
        "id": "WQ8y47YDs4AY",
        "outputId": "eba06d6c-e87a-4e2f-d56e-65bf74ffd622"
      },
      "outputs": [
        {
          "data": {
            "text/plain": [
              "<Axes: ylabel='sent_emails'>"
            ]
          },
          "execution_count": 17,
          "metadata": {},
          "output_type": "execute_result"
        },
        {
          "data": {
            "image/png": "[encoded data removed]",
            "text/plain": [
              "<Figure size 640x480 with 1 Axes>"
            ]
          },
          "metadata": {},
          "output_type": "display_data"
        }
      ],
      "source": [
        "# check outliers\n",
        "sns.boxplot(data['sent_emails'])"
      ]
    },
    {
      "cell_type": "code",
      "execution_count": 18,
      "metadata": {
        "id": "k2sD4Crr3KQf"
      },
      "outputs": [],
      "source": [
        "\n",
        "#from sklearn.preprocessing import MinMaxScaler\n",
        "#scaler = MinMaxScaler()\n",
        "#data['sent_emails'] = scaler.fit_transform(data[['sent_emails']])"
      ]
    },
    {
      "cell_type": "code",
      "execution_count": 19,
      "metadata": {
        "id": "YPEb8jthHQUe"
      },
      "outputs": [],
      "source": [
        "column_name = 'label'\n",
        "le = LabelEncoder()\n",
        "data['label'] = le.fit_transform(data['label'])\n"
      ]
    },
    {
      "cell_type": "markdown",
      "metadata": {
        "id": "ozcdA_k6DgD9"
      },
      "source": [
        "# Feature Selection\n"
      ]
    },
    {
      "cell_type": "code",
      "execution_count": 20,
      "metadata": {
        "id": "qzyjmF2iL2Oa"
      },
      "outputs": [],
      "source": [
        "numeric_data = data[['sent_emails', 'label', 'label_num']]\n",
        "correlation_matrix = numeric_data.corr()"
      ]
    },
    {
      "cell_type": "code",
      "execution_count": 21,
      "metadata": {
        "colab": {
          "base_uri": "https://localhost:8080/",
          "height": 1000
        },
        "id": "miTAMkwoMIEb",
        "outputId": "29a9b7a6-2cd0-4e8b-9ae1-9d71d8274e45"
      },
      "outputs": [
        {
          "data": {
            "image/png": "[encoded data removed]",
            "text/plain": [
              "<Figure size 2000x2000 with 2 Axes>"
            ]
          },
          "metadata": {},
          "output_type": "display_data"
        }
      ],
      "source": [
        "plt.figure(figsize=(20, 20))\n",
        "sns.heatmap(correlation_matrix, annot=True, cmap='coolwarm', fmt=\".2f\")\n",
        "plt.title('Correlation Matrix Heatmap')\n",
        "plt.show()"
      ]
    },
    {
      "cell_type": "code",
      "execution_count": null,
      "metadata": {
        "colab": {
          "base_uri": "https://localhost:8080/"
        },
        "id": "rIzJLEFH75be",
        "outputId": "33df6a29-5eb4-442c-a4ff-3dbd755b9f4d"
      },
      "outputs": [
        {
          "data": {
            "text/plain": [
              "0       0\n",
              "1       0\n",
              "2       0\n",
              "3       1\n",
              "4       0\n",
              "       ..\n",
              "5166    0\n",
              "5167    0\n",
              "5168    0\n",
              "5169    0\n",
              "5170    1\n",
              "Name: label_num, Length: 5171, dtype: int64"
            ]
          },
          "execution_count": 213,
          "metadata": {},
          "output_type": "execute_result"
        }
      ],
      "source": [
        "feature= data['sent_emails']\n",
        "label=data['label_num']\n",
        "label"
      ]
    },
    {
      "cell_type": "markdown",
      "metadata": {
        "colab": {
          "base_uri": "https://localhost:8080/"
        },
        "id": "QtsD_kHN751O",
        "outputId": "09fe4d96-e11d-4578-fca6-e383360298f7"
      },
      "source": [
        "from sklearn.feature_selection import SequentialFeatureSelector\n",
        "from sklearn.neighbors import KNeighborsClassifier\n",
        "from sklearn.feature_extraction.text import TfidfVectorizer\n",
        "from scipy.sparse import hstack\n",
        "\n",
        "# Initialize TF-IDF Vectorizer\n",
        "vectorizer = TfidfVectorizer()\n",
        "\n",
        "# Convert text data to TF-IDF features\n",
        "text_features = vectorizer.fit_transform(data['transform_text'])\n",
        "\n",
        "# Combine numerical feature and text features\n",
        "combined_features = hstack([data['sent_emails'].values.reshape(-1, 1), text_features])\n",
        "\n",
        "# Initialize KNeighborsClassifier\n",
        "knn = KNeighborsClassifier(n_neighbors=3)\n",
        "\n",
        "# Initialize SequentialFeatureSelector\n",
        "model = SequentialFeatureSelector(\n",
        "    knn,\n",
        "    n_features_to_select=1,\n",
        "    direction='backward'\n",
        ")\n",
        "\n",
        "# Fit the model to select features\n",
        "model.fit(combined_features, label)\n",
        "\n",
        "# Get the indices of selected features\n",
        "selected_feature_index = model.get_support(indices=True)[0]  # Assuming only one feature is selected\n",
        "\n",
        "# Print the selected feature\n",
        "if selected_feature_index == 0:\n",
        "    print(\"Selected feature: sent_email\")\n",
        "else:\n",
        "    print(\"Selected feature: transform_text\")\n"
      ]
    },
    {
      "cell_type": "code",
      "execution_count": 22,
      "metadata": {},
      "outputs": [
        {
          "name": "stdout",
          "output_type": "stream",
          "text": [
            "F-scores: [8.34671206e+03 1.42509359e+01 2.45032027e+00 ... 2.45032027e+00\n",
            " 2.45032027e+00 2.45032027e+00]\n",
            "p-values: [0.         0.00016178 0.11756211 ... 0.11756211 0.11756211 0.11756211]\n",
            "Selected Features:\n",
            "['sent_emailsaa' 'sent_emailsaaa' 'sent_emailsaaron' ...\n",
            " 'sent_emailszwallet' 'sent_emailszwdm' 'sent_emailszyjvit']\n"
          ]
        }
      ],
      "source": [
        "import numpy as np\n",
        "from sklearn.feature_selection import f_classif\n",
        "from sklearn.feature_extraction.text import TfidfVectorizer\n",
        "\n",
        "# Assume 'data' is your DataFrame containing 'sent_emails', 'transform_text', and the target variable 'label_num'\n",
        "\n",
        "# Extract the features and target variable\n",
        "X_text = data['transform_text']\n",
        "X_emails = data['sent_emails']\n",
        "y = data['label_num']\n",
        "\n",
        "# Initialize TF-IDF Vectorizer for text feature\n",
        "vectorizer = TfidfVectorizer()\n",
        "X_text_tfidf = vectorizer.fit_transform(X_text)\n",
        "\n",
        "# Combine TF-IDF text features with sent_emails\n",
        "X_combined = np.hstack((X_emails.values.reshape(-1, 1), X_text_tfidf.toarray()))\n",
        "\n",
        "# Perform ANOVA F-value feature selection\n",
        "f_scores, p_values = f_classif(X_combined, y)\n",
        "\n",
        "# Print the F-scores and p-values\n",
        "print(\"F-scores:\", f_scores)\n",
        "print(\"p-values:\", p_values)\n",
        "# Assume threshold for significance\n",
        "# Assume threshold for significance\n",
        "threshold = 0.05\n",
        "\n",
        "# Select features with p-values below the threshold\n",
        "selected_features_indices = np.where(p_values < threshold)[0]\n",
        "\n",
        "# Get the names of selected features\n",
        "selected_features = ['sent_emails'] + vectorizer.get_feature_names_out()[selected_features_indices]\n",
        "\n",
        "# Print selected features\n",
        "print(\"Selected Features:\")\n",
        "print(selected_features)\n",
        "\n"
      ]
    },
    {
      "cell_type": "code",
      "execution_count": 23,
      "metadata": {},
      "outputs": [
        {
          "name": "stdout",
          "output_type": "stream",
          "text": [
            "Selected Feature: sent_emails\n"
          ]
        }
      ],
      "source": [
        "import numpy as np\n",
        "import pandas as pd\n",
        "from sklearn.feature_selection import mutual_info_classif\n",
        "from sklearn.feature_extraction.text import TfidfVectorizer\n",
        "\n",
        "# Assume 'data' is your DataFrame containing 'numofemails', 'text', and 'target' columns\n",
        "\n",
        "# Step 3: Vectorize text data\n",
        "vectorizer = TfidfVectorizer()\n",
        "X_text = vectorizer.fit_transform(data['transform_text'])\n",
        "\n",
        "# Step 4: Compute Mutual Information scores\n",
        "mi_scores = mutual_info_classif(np.hstack((data[['sent_emails']].values, X_text.toarray())), data['label_num'])\n",
        "\n",
        "# Step 5: Select features\n",
        "selected_feature_indices = np.argmax(mi_scores)\n",
        "selected_feature_name = 'sent_emails' if selected_feature_indices == 0 else 'transform_text'\n",
        "print(\"Selected Feature:\", selected_feature_name)\n"
      ]
    },
    {
      "cell_type": "code",
      "execution_count": 24,
      "metadata": {},
      "outputs": [
        {
          "name": "stdout",
          "output_type": "stream",
          "text": [
            "Selected Feature: sent_emails\n"
          ]
        }
      ],
      "source": [
        "import numpy as np\n",
        "import pandas as pd\n",
        "from sklearn.feature_selection import chi2\n",
        "from sklearn.feature_extraction.text import TfidfVectorizer\n",
        "\n",
        "# Assume 'data' is your DataFrame containing 'numofemails', 'text', and 'target' columns\n",
        "\n",
        "# Step 3: Vectorize text data\n",
        "vectorizer = TfidfVectorizer()\n",
        "X_text = vectorizer.fit_transform(data['transform_text'])\n",
        "\n",
        "# Step 4: Compute chi-squared values\n",
        "chi2_scores, p_values = chi2(np.hstack((data[['sent_emails']].values, X_text.toarray())), data['label_num'])\n",
        "\n",
        "# Step 5: Select features\n",
        "selected_feature_indices = np.argsort(chi2_scores)[-1]  # Select the feature with the highest chi-squared score\n",
        "selected_feature_name = 'sent_emails' if selected_feature_indices == 0 else 'transform_text'\n",
        "print(\"Selected Feature:\", selected_feature_name)\n"
      ]
    },
    {
      "cell_type": "markdown",
      "metadata": {
        "id": "711gYkWU3KQo"
      },
      "source": [
        "## Speliting Data"
      ]
    },
    {
      "cell_type": "code",
      "execution_count": 25,
      "metadata": {
        "colab": {
          "base_uri": "https://localhost:8080/"
        },
        "id": "Z8DWLrEnEbtj",
        "outputId": "bb4b2511-2f1b-4bef-8541-4d3330b58e12"
      },
      "outputs": [
        {
          "data": {
            "text/plain": [
              "['final_X_test.pkl']"
            ]
          },
          "execution_count": 25,
          "metadata": {},
          "output_type": "execute_result"
        }
      ],
      "source": [
        "from sklearn.feature_extraction.text import TfidfVectorizer\n",
        "from sklearn.model_selection import train_test_split\n",
        "import joblib\n",
        "trainx = data['transform_text']\n",
        "trainy = data['label_num']\n",
        "final_X_train, final_X_test, final_y_train, final_y_test = train_test_split(trainx, trainy, test_size=0.25, random_state=42)\n",
        "tfidf_vectorizer = TfidfVectorizer()\n",
        "xtrain = tfidf_vectorizer.fit_transform(final_X_train)\n",
        "xtest = tfidf_vectorizer.transform(final_X_test)\n",
        "joblib.dump(final_y_train, 'final_y_train.pkl')\n",
        "joblib.dump(final_y_test, 'final_y_test.pkl')\n",
        "joblib.dump(final_X_train, 'cleaned_text.pkl')\n",
        "joblib.dump(xtest, 'final_X_test.pkl')\n",
        "joblib.dump(xtest, 'final_X_test.pkl')"
      ]
    },
    {
      "cell_type": "markdown",
      "metadata": {
        "id": "61-DrI4B3KQo"
      },
      "source": [
        "## Models\n"
      ]
    },
    {
      "cell_type": "code",
      "execution_count": 26,
      "metadata": {
        "colab": {
          "base_uri": "https://localhost:8080/"
        },
        "id": "I6htXuApStol",
        "outputId": "689f34ad-7570-4f53-ce18-cfa392c67b24"
      },
      "outputs": [
        {
          "name": "stdout",
          "output_type": "stream",
          "text": [
            "Confusion Matrix:\n",
            " [[897  33]\n",
            " [  4 359]]\n",
            "\n",
            "Classification Report:\n",
            "               precision    recall  f1-score   support\n",
            "\n",
            "           0       1.00      0.96      0.98       930\n",
            "           1       0.92      0.99      0.95       363\n",
            "\n",
            "    accuracy                           0.97      1293\n",
            "   macro avg       0.96      0.98      0.97      1293\n",
            "weighted avg       0.97      0.97      0.97      1293\n",
            "\n",
            "\n",
            "Accuracy: 97.138437741686\n"
          ]
        }
      ],
      "source": [
        "from sklearn.linear_model import LogisticRegression\n",
        "from sklearn.metrics import classification_report, confusion_matrix, accuracy_score\n",
        "\n",
        "C = 10\n",
        "solver = 'liblinear'\n",
        "penalty = 'l1'\n",
        "\n",
        "clf = LogisticRegression(fit_intercept=True, max_iter=1000, C=C, random_state=40, solver=solver, penalty=penalty)\n",
        "\n",
        "clf.fit(xtrain, final_y_train)\n",
        "\n",
        "y_pred = clf.predict(xtest)\n",
        "\n",
        "confusion_mat = confusion_matrix(final_y_test, y_pred)\n",
        "report = classification_report(final_y_test, y_pred)\n",
        "accuracy = accuracy_score(final_y_test, y_pred)\n",
        "\n",
        "print(\"Confusion Matrix:\\n\", confusion_mat)\n",
        "print(\"\\nClassification Report:\\n\", report)\n",
        "print(\"\\nAccuracy:\", accuracy*100)"
      ]
    },
    {
      "cell_type": "code",
      "execution_count": 27,
      "metadata": {
        "colab": {
          "base_uri": "https://localhost:8080/"
        },
        "id": "Vd_fiJjJ3KQp",
        "outputId": "853c794e-34fa-44df-e197-f7c6ed350d94"
      },
      "outputs": [
        {
          "name": "stdout",
          "output_type": "stream",
          "text": [
            "99.97421351211965\n",
            "97.138437741686\n"
          ]
        }
      ],
      "source": [
        "test_pred = clf.predict(xtest) #prediction of X_test\n",
        "train_pred = clf.predict(xtrain) #prediction of X_train\n",
        "print(accuracy_score(train_pred,final_y_train)*100)\n",
        "print(accuracy_score(test_pred,final_y_test)*100)"
      ]
    },
    {
      "cell_type": "code",
      "execution_count": 28,
      "metadata": {
        "colab": {
          "base_uri": "https://localhost:8080/"
        },
        "id": "ATvt2sOm3KQp",
        "outputId": "a235ff59-3951-4fa8-c722-b662403c6770"
      },
      "outputs": [
        {
          "name": "stdout",
          "output_type": "stream",
          "text": [
            "Hyperparameters used:\n",
            "C: 10\n",
            "Kernel: rbf\n",
            "\n",
            "Classification Report:\n",
            "               precision    recall  f1-score   support\n",
            "\n",
            "           0       1.00      0.99      0.99       930\n",
            "           1       0.97      0.99      0.98       363\n",
            "\n",
            "    accuracy                           0.99      1293\n",
            "   macro avg       0.98      0.99      0.99      1293\n",
            "weighted avg       0.99      0.99      0.99      1293\n",
            "\n",
            "\n",
            "Accuracy: 98.91724671307038\n",
            "\n",
            "Confusion Matrix:\n",
            " [[920  10]\n",
            " [  4 359]]\n"
          ]
        }
      ],
      "source": [
        "from sklearn import svm\n",
        "from sklearn.metrics import classification_report, confusion_matrix, accuracy_score\n",
        "\n",
        "C = 10\n",
        "kernel = 'rbf'\n",
        "\n",
        "model2 = svm.SVC(C=C, kernel=kernel, random_state=40)\n",
        "model2.fit(xtrain, final_y_train)\n",
        "y_pred2 = model2.predict(xtest)\n",
        "\n",
        "confusion_mat2 = confusion_matrix(final_y_test, y_pred2)\n",
        "report2 = classification_report(final_y_test, y_pred2)\n",
        "accuracy2 = accuracy_score(final_y_test, y_pred2)\n",
        "\n",
        "print(\"Hyperparameters used:\")\n",
        "print(\"C:\", C)\n",
        "print(\"Kernel:\", kernel)\n",
        "print(\"\\nClassification Report:\\n\", report2)\n",
        "print(\"\\nAccuracy:\", accuracy2*100)\n",
        "print(\"\\nConfusion Matrix:\\n\", confusion_mat2)\n"
      ]
    },
    {
      "cell_type": "code",
      "execution_count": 29,
      "metadata": {
        "colab": {
          "base_uri": "https://localhost:8080/"
        },
        "id": "vZ9an_iM3KQq",
        "outputId": "9d12c8c3-05eb-4e6d-889a-74c5f3574213"
      },
      "outputs": [
        {
          "name": "stdout",
          "output_type": "stream",
          "text": [
            "100.0\n",
            "98.91724671307038\n"
          ]
        }
      ],
      "source": [
        "\n",
        "test_pred2 = model2.predict(xtest) #prediction of X_test\n",
        "train_pred2 = model2.predict(xtrain) #prediction of X_train\n",
        "print(accuracy_score(train_pred2,final_y_train)*100)\n",
        "print(accuracy_score(test_pred2,final_y_test)*100)"
      ]
    },
    {
      "cell_type": "code",
      "execution_count": 30,
      "metadata": {
        "colab": {
          "base_uri": "https://localhost:8080/"
        },
        "id": "wTelbM_C3KQq",
        "outputId": "a9146444-9943-4d83-d579-d806c038a21f"
      },
      "outputs": [
        {
          "name": "stdout",
          "output_type": "stream",
          "text": [
            "Accuracy: 96.2877030162413\n",
            "Confusion Matrix:\n",
            " [[912  18]\n",
            " [ 30 333]]\n"
          ]
        }
      ],
      "source": [
        "from sklearn.ensemble import RandomForestClassifier\n",
        "from sklearn.metrics import accuracy_score, confusion_matrix\n",
        "\n",
        "n_estimators = 10\n",
        "max_depth = None\n",
        "\n",
        "rf_classifier = RandomForestClassifier(n_estimators=n_estimators, max_depth=max_depth, random_state=40)\n",
        "rf_classifier.fit(xtrain, final_y_train)\n",
        "y_pred = rf_classifier.predict(xtest)\n",
        "\n",
        "accuracy = accuracy_score(final_y_test, y_pred)\n",
        "confusion_mat = confusion_matrix(final_y_test, y_pred)\n",
        "\n",
        "print(\"Accuracy:\", accuracy*100)\n",
        "print(\"Confusion Matrix:\\n\", confusion_mat)"
      ]
    },
    {
      "cell_type": "code",
      "execution_count": 31,
      "metadata": {
        "colab": {
          "base_uri": "https://localhost:8080/"
        },
        "id": "Nsw_kZk93KQq",
        "outputId": "957cde39-459f-45d1-db59-96d87bc01a78"
      },
      "outputs": [
        {
          "name": "stdout",
          "output_type": "stream",
          "text": [
            "99.8452810727179\n",
            "96.2877030162413\n"
          ]
        }
      ],
      "source": [
        "test_pred4 = rf_classifier.predict(xtest) #prediction of X_test\n",
        "train_pred4 = rf_classifier.predict(xtrain) #prediction of X_train\n",
        "print(accuracy_score(train_pred4,final_y_train)*100)\n",
        "print(accuracy_score(test_pred4,final_y_test)*100)"
      ]
    },
    {
      "cell_type": "code",
      "execution_count": 32,
      "metadata": {
        "colab": {
          "base_uri": "https://localhost:8080/"
        },
        "id": "ngYM9BLT3KQr",
        "outputId": "d4c9ccef-8c31-4d4e-ea7f-97a15370b3ac"
      },
      "outputs": [
        {
          "name": "stdout",
          "output_type": "stream",
          "text": [
            "Accuracy: 94.50889404485692\n",
            "Confusion Matrix:\n",
            " [[896  34]\n",
            " [ 37 326]]\n"
          ]
        }
      ],
      "source": [
        "from sklearn.tree import DecisionTreeClassifier\n",
        "from sklearn.metrics import accuracy_score, confusion_matrix\n",
        "\n",
        "max_depth = None\n",
        "min_samples_split = 100\n",
        "\n",
        "dt_classifier = DecisionTreeClassifier(max_depth=max_depth, min_samples_split=min_samples_split, random_state=40)\n",
        "dt_classifier.fit(xtrain, final_y_train)\n",
        "y_pred = dt_classifier.predict(xtest)\n",
        "\n",
        "accuracy = accuracy_score(final_y_test, y_pred)\n",
        "confusion_mat = confusion_matrix(final_y_test, y_pred)\n",
        "\n",
        "print(\"Accuracy:\", accuracy*100)\n",
        "print(\"Confusion Matrix:\\n\", confusion_mat)"
      ]
    },
    {
      "cell_type": "code",
      "execution_count": 33,
      "metadata": {
        "colab": {
          "base_uri": "https://localhost:8080/"
        },
        "id": "1e-B4bXY3KQr",
        "outputId": "9f51eedd-9a71-4a8b-b410-a11d55446f12"
      },
      "outputs": [
        {
          "name": "stdout",
          "output_type": "stream",
          "text": [
            "99.22640536358948\n",
            "94.50889404485692\n"
          ]
        }
      ],
      "source": [
        "test_pred7 = dt_classifier.predict(xtest) #prediction of X_test\n",
        "train_pred7 = dt_classifier.predict(xtrain) #prediction of X_train\n",
        "print(accuracy_score(train_pred7,final_y_train)*100)\n",
        "print(accuracy_score(test_pred7,final_y_test)*100)"
      ]
    },
    {
      "cell_type": "code",
      "execution_count": 34,
      "metadata": {
        "colab": {
          "base_uri": "https://localhost:8080/"
        },
        "id": "z6TBYJPp3KQr",
        "outputId": "433c1588-7dfd-4828-8ea1-eef8a4daaca4"
      },
      "outputs": [
        {
          "name": "stdout",
          "output_type": "stream",
          "text": [
            "Best hyperparameters found: {'alpha': 0.5, 'fit_prior': False}\n",
            "Accuracy: 97.91183294663574\n",
            "Confusion Matrix:\n",
            " [[922   8]\n",
            " [ 19 344]]\n"
          ]
        }
      ],
      "source": [
        "from sklearn.naive_bayes import MultinomialNB\n",
        "from sklearn.metrics import accuracy_score, confusion_matrix\n",
        "from sklearn.model_selection import GridSearchCV\n",
        "\n",
        "param_grid = {\n",
        "    'alpha': [0.1, 0.5, 1.0, 2.0],\n",
        "    'fit_prior': [True, False]\n",
        "}\n",
        "\n",
        "mul = MultinomialNB(alpha=1,fit_prior=False)\n",
        "grid_search = GridSearchCV(mul, param_grid, cv=5)\n",
        "grid_search.fit(xtrain, final_y_train)\n",
        "mul.fit(xtrain, final_y_train)\n",
        "best_mul = grid_search.best_estimator_\n",
        "\n",
        "y_pred = best_mul.predict(xtest)\n",
        "accuracy = accuracy_score(final_y_test, y_pred)\n",
        "confusion_mat = confusion_matrix(final_y_test, y_pred)\n",
        "\n",
        "print(\"Best hyperparameters found:\", grid_search.best_params_)\n",
        "print(\"Accuracy:\", accuracy*100)\n",
        "print(\"Confusion Matrix:\\n\", confusion_mat)"
      ]
    },
    {
      "cell_type": "code",
      "execution_count": 35,
      "metadata": {
        "colab": {
          "base_uri": "https://localhost:8080/"
        },
        "id": "JWrjUy_D3KQs",
        "outputId": "8f9fc94b-e65d-477c-c6ce-2252f62bf738"
      },
      "outputs": [
        {
          "name": "stdout",
          "output_type": "stream",
          "text": [
            "98.86539453326458\n",
            "97.52513534416086\n"
          ]
        }
      ],
      "source": [
        "test_pred8 = mul.predict(xtest) #prediction of X_test\n",
        "train_pred8 = mul.predict(xtrain) #prediction of X_train\n",
        "print(accuracy_score(train_pred8,final_y_train)*100)\n",
        "print(accuracy_score(test_pred8,final_y_test)*100)"
      ]
    },
    {
      "cell_type": "markdown",
      "metadata": {
        "id": "hujNT_dy3KQs"
      },
      "source": [
        "# Deployment"
      ]
    },
    {
      "cell_type": "code",
      "execution_count": 36,
      "metadata": {
        "id": "-m56hwLv3KQs"
      },
      "outputs": [],
      "source": [
        "\n",
        "joblib_file1 = 'logistic_pred'\n",
        "joblib.dump( clf, joblib_file1)\n",
        "modellog = joblib.load(open(\"logistic_pred\", 'rb'))\n"
      ]
    },
    {
      "cell_type": "code",
      "execution_count": 37,
      "metadata": {
        "id": "AZNGFSZj3KQs"
      },
      "outputs": [],
      "source": [
        "joblib_file2 = 'svm'\n",
        "joblib.dump( model2, joblib_file2)\n",
        "modelsvm = joblib.load(open(\"svm\", 'rb'))"
      ]
    },
    {
      "cell_type": "code",
      "execution_count": 38,
      "metadata": {
        "id": "HDpayJUw3KQs"
      },
      "outputs": [],
      "source": [
        "joblib_file3 = 'id3'\n",
        "joblib.dump( dt_classifier, joblib_file3)\n",
        "modelid3 = joblib.load(open(\"id3\", 'rb'))"
      ]
    },
    {
      "cell_type": "code",
      "execution_count": 39,
      "metadata": {
        "id": "O58kWyyZ3KQt"
      },
      "outputs": [],
      "source": [
        "joblib_file4 = 'rfc'\n",
        "joblib.dump( rf_classifier, joblib_file4)\n",
        "modelrfc = joblib.load(open(\"rfc\", 'rb'))"
      ]
    },
    {
      "cell_type": "code",
      "execution_count": 40,
      "metadata": {
        "id": "SHRrJrx63KQt"
      },
      "outputs": [],
      "source": [
        "joblib_file6 = 'multinomial'\n",
        "joblib.dump( mul, joblib_file6)\n",
        "modelmul = joblib.load(open(\"multinomial\", 'rb'))"
      ]
    },
    {
      "cell_type": "markdown",
      "metadata": {},
      "source": [
        "from sklearn.feature_extraction.text import TfidfVectorizer\n",
        "from sklearn.model_selection import train_test_split\n",
        "from scipy.sparse import hstack\n",
        "import joblib\n",
        "trainx = data['transform_text']\n",
        "trainy = data['label_num']\n",
        "final_X_train, final_X_test, final_y_train, final_y_test = train_test_split(trainx, trainy, test_size=0.25, random_state=42)\n",
        "\n",
        "\n",
        "\n",
        "tfidf_vectorizer_text = TfidfVectorizer()\n",
        "\n",
        "# Fit and transform the 'transform_text' column in the training data\n",
        "xtrain_text = tfidf_vectorizer_text.fit_transform(final_X_train)\n",
        "\n",
        "# Transform the 'transform_text' column in the test data\n",
        "xtest_text = tfidf_vectorizer_text.transform(final_X_test)\n",
        "\n",
        "# Extract the 'sent_emails' column from the training and test data\n",
        "sent_emails_train = data.loc[final_X_train.index, 'sent_emails'].values.reshape(-1, 1)\n",
        "sent_emails_test = data.loc[final_X_test.index, 'sent_emails'].values.reshape(-1, 1)\n",
        "\n",
        "\n",
        "# Concatenate the TF-IDF text features with the 'sent_emails' column for both train and test data\n",
        "xtrain = hstack([xtrain_text, sent_emails_train])\n",
        "xtest = hstack([xtest_text, sent_emails_test])\n",
        "xtrain_array = xtrain.toarray()\n",
        "xtest_array = xtest.toarray()\n",
        "xtrain_df = pd.DataFrame(xtrain_array)\n",
        "xtest_df = pd.DataFrame(xtest_array)\n",
        "joblib.dump(final_y_train, 'final_y_train.pkl')\n",
        "joblib.dump(final_y_test, 'final_y_test.pkl')\n",
        "joblib.dump(final_X_train, 'cleaned_text.pkl')\n",
        "joblib.dump(xtest, 'final_X_test.pkl')\n",
        "joblib.dump(xtest, 'final_X_test.pkl')"
      ]
    },
    {
      "cell_type": "markdown",
      "metadata": {},
      "source": [
        "from sklearn.model_selection import RandomizedSearchCV\n",
        "from sklearn.neighbors import KNeighborsClassifier\n",
        "from scipy.stats import randint\n",
        "\n",
        "# Define the parameter grid\n",
        "param_dist = {'n_neighbors': randint(1, 20)}\n",
        "\n",
        "# Creating and fitting kNN model with RandomizedSearchCV\n",
        "knn = KNeighborsClassifier()\n",
        "random_search = RandomizedSearchCV(estimator=knn, param_distributions=param_dist, n_iter=10, cv=5, scoring='accuracy', random_state=42)\n",
        "random_search.fit(xtrain, final_y_train)\n",
        "\n",
        "# Get the best hyperparameters\n",
        "best_params = random_search.best_params_\n",
        "print(\"Best Hyperparameters:\", best_params)\n",
        "\n",
        "# Make predictions using the best model\n",
        "best_model = random_search.best_estimator_\n",
        "y_pred = best_model.predict(xtest)\n",
        "\n",
        "# Evaluate accuracy\n",
        "accuracy = accuracy_score(final_y_test, y_pred)\n",
        "print(\"Accuracy: {:.2f}%\".format(accuracy*100))"
      ]
    },
    {
      "cell_type": "markdown",
      "metadata": {},
      "source": [
        "from sklearn.linear_model import LogisticRegression\n",
        "from sklearn.metrics import classification_report, confusion_matrix, accuracy_score\n",
        "clf = LogisticRegression(fit_intercept=True, max_iter=1000, C=0.5, random_state=0, solver='liblinear')\n",
        "\n",
        "clf.fit(xtrain, final_y_train)\n",
        "y_pred = clf.predict(xtest)\n",
        "confusion_mat = confusion_matrix(final_y_test, y_pred)\n",
        "report = classification_report(final_y_test, y_pred)\n",
        "accuracy = accuracy_score(final_y_test, y_pred)\n",
        "print(\"Confusion Matrix:\\n\", confusion_mat)\n",
        "print(\"\\nClassification Report:\\n\", report)\n",
        "print(\"\\nAccuracy:\", accuracy)"
      ]
    },
    {
      "cell_type": "markdown",
      "metadata": {},
      "source": [
        "test_pred6 = random_search.predict(xtest) #prediction of X_test\n",
        "train_pred6 = random_search.predict(xtrain) #prediction of X_train\n",
        "print(accuracy_score(train_pred6,final_y_train))\n",
        "print(accuracy_score(test_pred6,final_y_test))"
      ]
    },
    {
      "cell_type": "markdown",
      "metadata": {},
      "source": [
        "from sklearn.neighbors import KNeighborsClassifier\n",
        "k = 2  # Number of neighbors\n",
        "knn = KNeighborsClassifier(n_neighbors=k)\n",
        "\n",
        "knn.fit(xtrain, final_y_train)\n",
        "y_pred6 = mul.predict(xtest)\n",
        "print(accuracy_score(final_y_test, y_pred6))\n",
        "print(confusion_matrix(final_y_test, y_pred6))"
      ]
    },
    {
      "cell_type": "markdown",
      "metadata": {},
      "source": [
        "test_pred = clf.predict(xtest) #prediction of X_test\n",
        "train_pred = clf.predict(xtrain) #prediction of X_train\n",
        "print(accuracy_score(train_pred,final_y_train))\n",
        "print(accuracy_score(test_pred,final_y_test))"
      ]
    },
    {
      "cell_type": "markdown",
      "metadata": {},
      "source": [
        "from sklearn import svm\n",
        "from sklearn.datasets import make_classification\n",
        "from sklearn.model_selection import  GridSearchCV\n",
        "\n",
        "model2 = svm.SVC()\n",
        "model2.fit(xtrain, final_y_train)\n",
        "ypred2=model2.predict(xtest)\n",
        "confusion_mat2=confusion_matrix(final_y_test,ypred2)\n",
        "report2=classification_report(final_y_test,ypred2)\n",
        "accuracy2 = accuracy_score (final_y_test,ypred2)\n",
        "print(report2)\n",
        "print(accuracy2)\n",
        "print (confusion_mat2)"
      ]
    },
    {
      "cell_type": "markdown",
      "metadata": {},
      "source": [
        "test_pred2 = model2.predict(xtest) #prediction of X_test\n",
        "train_pred2 = model2.predict(xtrain) #prediction of X_train\n",
        "print(accuracy_score(train_pred2,final_y_train))\n",
        "print(accuracy_score(test_pred2,final_y_test))"
      ]
    },
    {
      "cell_type": "markdown",
      "metadata": {},
      "source": [
        "from sklearn.tree import DecisionTreeClassifier\n",
        "id = DecisionTreeClassifier(max_depth=2, min_samples_split=2, random_state=40)\n",
        "id.fit(xtrain, final_y_train)\n",
        "\n",
        "y_pred3 = id.predict(xtest)\n",
        "print(accuracy_score(final_y_test, y_pred3))\n",
        "print(confusion_matrix(final_y_test, y_pred3))"
      ]
    },
    {
      "cell_type": "markdown",
      "metadata": {},
      "source": [
        "from sklearn.naive_bayes import MultinomialNB\n",
        "mul = MultinomialNB()\n",
        "mul.fit(xtrain, final_y_train)\n",
        "y_pred5 = mul.predict(xtest)\n",
        "print(accuracy_score(final_y_test, y_pred5))\n",
        "print(confusion_matrix(final_y_test, y_pred5))"
      ]
    },
    {
      "cell_type": "markdown",
      "metadata": {},
      "source": [
        "test_pred3 = id.predict(xtest) #prediction of X_test\n",
        "train_pred3 = id.predict(xtrain) #prediction of X_train\n",
        "print(accuracy_score(train_pred2,final_y_train))\n",
        "print(accuracy_score(test_pred2,final_y_test))"
      ]
    },
    {
      "cell_type": "markdown",
      "metadata": {},
      "source": [
        "from sklearn.ensemble import RandomForestClassifier\n",
        "\n",
        "rf = RandomForestClassifier(n_estimators=100, max_depth=None, random_state=42)\n",
        "\n",
        "\n",
        "rf.fit(xtrain, final_y_train)\n",
        "y_pred1 = rf.predict(xtest)\n",
        "print(accuracy_score(final_y_test, y_pred1))\n",
        "print(confusion_matrix(final_y_test, y_pred1))\n"
      ]
    },
    {
      "cell_type": "markdown",
      "metadata": {},
      "source": [
        "test_pred4 = rf.predict(xtest) #prediction of X_test\n",
        "train_pred4 = rf.predict(xtrain) #prediction of X_train\n",
        "print(accuracy_score(train_pred4,final_y_train))\n",
        "print(accuracy_score(test_pred4,final_y_test))"
      ]
    },
    {
      "cell_type": "markdown",
      "metadata": {},
      "source": [
        "test_pred5 = mul.predict(xtest) #prediction of X_test\n",
        "train_pred5 = mul.predict(xtrain) #prediction of X_train\n",
        "print(accuracy_score(train_pred5,final_y_train))\n",
        "print(accuracy_score(test_pred5,final_y_test))"
      ]
    }
  ],
  "metadata": {
    "colab": {
      "provenance": []
    },
    "kernelspec": {
      "display_name": "Python 3",
      "name": "python3"
    },
    "language_info": {
      "codemirror_mode": {
        "name": "ipython",
        "version": 3
      },
      "file_extension": ".py",
      "mimetype": "text/x-python",
      "name": "python",
      "nbconvert_exporter": "python",
      "pygments_lexer": "ipython3",
      "version": "3.12.1"
    }
  },
  "nbformat": 4,
  "nbformat_minor": 0
}
